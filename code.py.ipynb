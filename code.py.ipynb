{
 "cells": [
  {
   "cell_type": "code",
   "execution_count": 3,
   "metadata": {},
   "outputs": [
    {
     "name": "stdout",
     "output_type": "stream",
     "text": [
      "23-02-2022\n",
      "       Accident_Severity Road_Surface_Conditions  Weather_Conditions\n",
      "660402            Slight                     Dry  Fine no high winds\n",
      "660676            Slight            Frost or ice  Fine no high winds\n",
      "660677           Serious             Wet or damp  Fine no high winds\n"
     ]
    }
   ],
   "source": [
    "from datetime import datetime\n",
    "import pandas as pd\n",
    "df = pd.read_csv(\"C:/Users/jaya2/OneDrive/Documents/final data.csv\")\n",
    "\n",
    "def manual_testing(date, district):\n",
    "    print(date)\n",
    "    r=df.loc[(df['Accident Date']==date) & (df['District Area']==district),['Accident_Severity','Road_Surface_Conditions','Weather_Conditions']]\n",
    "    print(r)\n",
    "date=input(\"Enter a date(dd-mm-yyyy format):\")\n",
    "district=input()\n",
    "manual_testing(date,district)"
   ]
  }
 ],
 "metadata": {
  "kernelspec": {
   "display_name": "Python 3",
   "language": "python",
   "name": "python3"
  },
  "language_info": {
   "codemirror_mode": {
    "name": "ipython",
    "version": 3
   },
   "file_extension": ".py",
   "mimetype": "text/x-python",
   "name": "python",
   "nbconvert_exporter": "python",
   "pygments_lexer": "ipython3",
   "version": "3.12.2"
  }
 },
 "nbformat": 4,
 "nbformat_minor": 2
}
